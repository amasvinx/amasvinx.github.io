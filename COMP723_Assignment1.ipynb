{
  "nbformat": 4,
  "nbformat_minor": 0,
  "metadata": {
    "colab": {
      "name": "COMP723_Assignment1.ipynb",
      "provenance": [],
      "collapsed_sections": [],
      "toc_visible": true,
      "authorship_tag": "ABX9TyPE2wAqKIkbphnkwZDlNkT0",
      "include_colab_link": true
    },
    "kernelspec": {
      "name": "python3",
      "display_name": "Python 3"
    },
    "accelerator": "GPU"
  },
  "cells": [
    {
      "cell_type": "markdown",
      "metadata": {
        "id": "view-in-github",
        "colab_type": "text"
      },
      "source": [
        "<a href=\"https://colab.research.google.com/github/amasvinx/amasvinx.github.io/blob/master/COMP723_Assignment1.ipynb\" target=\"_parent\"><img src=\"https://colab.research.google.com/assets/colab-badge.svg\" alt=\"Open In Colab\"/></a>"
      ]
    },
    {
      "cell_type": "markdown",
      "metadata": {
        "id": "7KbfRODgsIaa",
        "colab_type": "text"
      },
      "source": [
        "# Initial Phase"
      ]
    },
    {
      "cell_type": "markdown",
      "metadata": {
        "id": "ffh6aCh5fJCH",
        "colab_type": "text"
      },
      "source": [
        "## Import libaries"
      ]
    },
    {
      "cell_type": "markdown",
      "metadata": {
        "id": "Y9WShsjrVPcz",
        "colab_type": "text"
      },
      "source": [
        "Util library for handling data :"
      ]
    },
    {
      "cell_type": "code",
      "metadata": {
        "id": "dhAEQZgHXdH5",
        "colab_type": "code",
        "colab": {
          "base_uri": "https://localhost:8080/",
          "height": 68
        },
        "outputId": "fcb5f4b1-8aa9-49de-e70a-003564d6c8f8"
      },
      "source": [
        "import pandas as pd\n",
        "pd.set_option('max_colwidth',600)\n",
        "\n",
        "import matplotlib.pyplot as plt\n",
        "%matplotlib inline\n",
        "\n",
        "import re\n",
        "import nltk\n",
        "nltk.download('wordnet')"
      ],
      "execution_count": 1,
      "outputs": [
        {
          "output_type": "stream",
          "text": [
            "[nltk_data] Downloading package wordnet to /root/nltk_data...\n",
            "[nltk_data]   Unzipping corpora/wordnet.zip.\n"
          ],
          "name": "stdout"
        },
        {
          "output_type": "execute_result",
          "data": {
            "text/plain": [
              "True"
            ]
          },
          "metadata": {
            "tags": []
          },
          "execution_count": 1
        }
      ]
    },
    {
      "cell_type": "markdown",
      "metadata": {
        "id": "lg41DSy9U7TN",
        "colab_type": "text"
      },
      "source": [
        "Using Scikit Learn for training model and classification :"
      ]
    },
    {
      "cell_type": "code",
      "metadata": {
        "id": "Rhf3XK85UomS",
        "colab_type": "code",
        "colab": {}
      },
      "source": [
        "# BOW\n",
        "from sklearn.feature_extraction.text import CountVectorizer, TfidfTransformer\n",
        "\n",
        "# Training\n",
        "from sklearn.pipeline import Pipeline\n",
        "from sklearn.model_selection import GridSearchCV, train_test_split\n",
        "\n",
        "# Models\n",
        "from sklearn.naive_bayes import MultinomialNB\n",
        "from sklearn.linear_model import LogisticRegression\n",
        "from sklearn.linear_model import SGDClassifier\n",
        "from sklearn import svm\n",
        "\n",
        "# Validation\n",
        "from sklearn.metrics import classification_report, confusion_matrix, accuracy_score"
      ],
      "execution_count": 2,
      "outputs": []
    },
    {
      "cell_type": "markdown",
      "metadata": {
        "id": "mTQAXz80U3Fa",
        "colab_type": "text"
      },
      "source": [
        "Using spacy for text preprocessing :"
      ]
    },
    {
      "cell_type": "code",
      "metadata": {
        "id": "AYBDL_KybXdr",
        "colab_type": "code",
        "colab": {}
      },
      "source": [
        "# !python -m spacy download en_core_web_lg"
      ],
      "execution_count": 3,
      "outputs": []
    },
    {
      "cell_type": "code",
      "metadata": {
        "id": "rAqPQpjXUm1T",
        "colab_type": "code",
        "colab": {}
      },
      "source": [
        "import spacy\n",
        "nlp = spacy.load('en_core_web_lg')\n",
        "nlp.remove_pipe('ner')"
      ],
      "execution_count": null,
      "outputs": []
    },
    {
      "cell_type": "markdown",
      "metadata": {
        "id": "Ti_IIJ8hVGnI",
        "colab_type": "text"
      },
      "source": [
        "Mount Google Drive for retrieving dataset :"
      ]
    },
    {
      "cell_type": "code",
      "metadata": {
        "id": "1F5zRdgoXgtK",
        "colab_type": "code",
        "colab": {
          "base_uri": "https://localhost:8080/",
          "height": 51
        },
        "outputId": "2dba2829-578a-423d-ec0a-851c1cd517a9"
      },
      "source": [
        "from google.colab import drive\n",
        "drive.mount('/gdrive')\n",
        "%cd /gdrive/'My Drive'/'Colab Notebooks'"
      ],
      "execution_count": 5,
      "outputs": [
        {
          "output_type": "stream",
          "text": [
            "Mounted at /gdrive\n",
            "/gdrive/My Drive/Colab Notebooks\n"
          ],
          "name": "stdout"
        }
      ]
    },
    {
      "cell_type": "markdown",
      "metadata": {
        "id": "UobCP4UXsRKa",
        "colab_type": "text"
      },
      "source": [
        "## Load Dataset"
      ]
    },
    {
      "cell_type": "markdown",
      "metadata": {
        "id": "IbyiPz91Vdk8",
        "colab_type": "text"
      },
      "source": [
        "Import dataset into dataframe using pandas :"
      ]
    },
    {
      "cell_type": "code",
      "metadata": {
        "id": "zVyyMT0hbb6G",
        "colab_type": "code",
        "colab": {}
      },
      "source": [
        "def prepare_dataset():\n",
        "    df1=pd.read_csv('druglib_data/drugLibTrain_raw.tsv',sep='\\t')\n",
        "    df2=pd.read_csv('druglib_data/drugLibTest_raw.tsv', sep='\\t')\n",
        "    df = df1.append(df2, ignore_index=True, sort=False)\n",
        "    return df"
      ],
      "execution_count": 6,
      "outputs": []
    },
    {
      "cell_type": "markdown",
      "metadata": {
        "id": "3T1DaN7GVjI8",
        "colab_type": "text"
      },
      "source": [
        "The function process the given dataframe with simplified_target variable, return dataframe with only feature and target column from the imported dataset.\n",
        "\n",
        "Simplified_target variable: \n",
        "- True for reducing the range of sideEffects from 5 to 3\n",
        "- False for keeping sideEffects range (5)\n"
      ]
    },
    {
      "cell_type": "code",
      "metadata": {
        "id": "cs9lTiJKVaDy",
        "colab_type": "code",
        "colab": {}
      },
      "source": [
        "def define_feature_target(df, simplified_target):\n",
        "    df[\"text\"] = df[\"condition\"] + \" \"+  df[\"sideEffectsReview\"] +\" \"+ df[\"commentsReview\"]\n",
        "\n",
        "    if(simplified_target==True):\n",
        "        sideEffects_order_map = {'No Side Effects': 'No Side Effects', 'Mild Side Effects': 'Moderate Side Effects', 'Moderate Side Effects': 'Moderate Side Effects', \n",
        "                   'Severe Side Effects': 'Severe Side Effects', 'Extremely Severe Side Effects': 'Severe Side Effects'}\n",
        "                \n",
        "        df['target'] = df['sideEffects'].map(sideEffects_order_map)\n",
        "    else:\n",
        "        df['target'] = df.sideEffects\n",
        "\n",
        "    df= df[[\"text\",\"target\"]]\n",
        "    return df"
      ],
      "execution_count": 7,
      "outputs": []
    },
    {
      "cell_type": "markdown",
      "metadata": {
        "id": "aZseE-m0VpVh",
        "colab_type": "text"
      },
      "source": [
        "Return dataframe with feature and target retrieved from the import data"
      ]
    },
    {
      "cell_type": "code",
      "metadata": {
        "id": "p1nPsscXVbrV",
        "colab_type": "code",
        "colab": {}
      },
      "source": [
        "def load_dataset(simplified_target = True):\n",
        "    df = prepare_dataset()\n",
        "    df = define_feature_target(df, simplified_target)\n",
        "    return df"
      ],
      "execution_count": 8,
      "outputs": []
    },
    {
      "cell_type": "code",
      "metadata": {
        "id": "u1SD0GzmVc1Q",
        "colab_type": "code",
        "colab": {}
      },
      "source": [
        "df = load_dataset(True)"
      ],
      "execution_count": 9,
      "outputs": []
    },
    {
      "cell_type": "markdown",
      "metadata": {
        "id": "frzL5q01sT5M",
        "colab_type": "text"
      },
      "source": [
        "## Visualize Dataset\n",
        "Plot the target columns"
      ]
    },
    {
      "cell_type": "code",
      "metadata": {
        "id": "5YGbFKyPXiup",
        "colab_type": "code",
        "colab": {}
      },
      "source": [
        "def plot_target(df, simplified_target=True):\n",
        "    plt.figure(1, figsize=(32,8))\n",
        "    plt.subplot(1,2,1)\n",
        "    if simplified_target == False:\n",
        "        _=plt.bar([\"None\",\"Mild\",\"Moderate\",\"Severe\",\"Extremely Severe\"],\n",
        "                [df[df.target==\"No Side Effects\"].shape[0],\n",
        "                df[df.target==\"Mild Side Effects\"].shape[0],\n",
        "                df[df.target==\"Moderate Side Effects\"].shape[0],\n",
        "                df[df.target==\"Severe Side Effects\"].shape[0],\n",
        "                df[df.target==\"Extremely Severe Side Effects\"].shape[0]])\n",
        "    else:\n",
        "        _=plt.bar([\"None\",\"Moderate\",\"Severe\"],\n",
        "                [df[df.target=='No Side Effects'].shape[0],\n",
        "                df[df.target=='Moderate Side Effects'].shape[0],\n",
        "                df[df.target=='Severe Side Effects'].shape[0]])\n",
        "    return plt"
      ],
      "execution_count": 10,
      "outputs": []
    },
    {
      "cell_type": "code",
      "metadata": {
        "id": "hgJ8dLwpJV4E",
        "colab_type": "code",
        "colab": {
          "base_uri": "https://localhost:8080/",
          "height": 500
        },
        "outputId": "6f79903c-9c07-489f-9f7e-3a3003b4c1ea"
      },
      "source": [
        "plot_target(df,True)"
      ],
      "execution_count": 11,
      "outputs": [
        {
          "output_type": "execute_result",
          "data": {
            "text/plain": [
              "<module 'matplotlib.pyplot' from '/usr/local/lib/python3.6/dist-packages/matplotlib/pyplot.py'>"
            ]
          },
          "metadata": {
            "tags": []
          },
          "execution_count": 11
        },
        {
          "output_type": "display_data",
          "data": {
            "image/png": "[encoded data removed]",
            "text/plain": [
              "<Figure size 2304x576 with 1 Axes>"
            ]
          },
          "metadata": {
            "tags": [],
            "needs_background": "light"
          }
        }
      ]
    },
    {
      "cell_type": "code",
      "metadata": {
        "id": "MTERqnTBXOI5",
        "colab_type": "code",
        "colab": {
          "base_uri": "https://localhost:8080/",
          "height": 170
        },
        "outputId": "c2efa088-6a5f-40bb-f728-f3d43d5b4c7f"
      },
      "source": [
        "df.info()"
      ],
      "execution_count": 12,
      "outputs": [
        {
          "output_type": "stream",
          "text": [
            "<class 'pandas.core.frame.DataFrame'>\n",
            "RangeIndex: 4143 entries, 0 to 4142\n",
            "Data columns (total 2 columns):\n",
            " #   Column  Non-Null Count  Dtype \n",
            "---  ------  --------------  ----- \n",
            " 0   text    4132 non-null   object\n",
            " 1   target  4143 non-null   object\n",
            "dtypes: object(2)\n",
            "memory usage: 64.9+ KB\n"
          ],
          "name": "stdout"
        }
      ]
    },
    {
      "cell_type": "markdown",
      "metadata": {
        "id": "SCkBSNb-sZbW",
        "colab_type": "text"
      },
      "source": [
        "# Preprocessing Phase"
      ]
    },
    {
      "cell_type": "markdown",
      "metadata": {
        "id": "-SVJVSiHPITx",
        "colab_type": "text"
      },
      "source": [
        "## Clean text\n",
        "\n",
        "Clean text with remove special character and extract only noun, verb, adjective, number and other words ( no punctuation, no stopwords, ...)"
      ]
    },
    {
      "cell_type": "code",
      "metadata": {
        "id": "ctwO_hGCCzTa",
        "colab_type": "code",
        "colab": {
          "base_uri": "https://localhost:8080/",
          "height": 119
        },
        "outputId": "a3fb40d1-39cb-4127-d99f-d7ae13db8005"
      },
      "source": [
        "def preprocessingText(text):\n",
        "    # Remove all the special characters\n",
        "    text = re.sub(r'\\W', ' ', text)\n",
        "\n",
        "    # Preprocessing with spacy\n",
        "    doc = nlp(text)\n",
        "    text = [token.lemma_.lower() for token in doc if token.pos_ in ('NOUN','VERB','ADJ','NUM','X')]\n",
        "    text = ' '.join(text)\n",
        "\n",
        "    return text\n",
        "\n",
        "\n",
        "def preprocessingDataframe(df):\n",
        "    # Remove na row\n",
        "    df = df.dropna()\n",
        "\n",
        "    # Apply preprocessingText function for each row in text columns\n",
        "    df.text=df.text.apply(lambda x:preprocessingText(x))\n",
        "\n",
        "    return df.text.values,df.target.values\n",
        "\n",
        "\n",
        "X, y = preprocessingDataframe(df)"
      ],
      "execution_count": 13,
      "outputs": [
        {
          "output_type": "stream",
          "text": [
            "/usr/local/lib/python3.6/dist-packages/pandas/core/generic.py:5303: SettingWithCopyWarning: \n",
            "A value is trying to be set on a copy of a slice from a DataFrame.\n",
            "Try using .loc[row_indexer,col_indexer] = value instead\n",
            "\n",
            "See the caveats in the documentation: https://pandas.pydata.org/pandas-docs/stable/user_guide/indexing.html#returning-a-view-versus-a-copy\n",
            "  self[name] = value\n"
          ],
          "name": "stderr"
        }
      ]
    },
    {
      "cell_type": "markdown",
      "metadata": {
        "id": "2KJXkdr2sdp-",
        "colab_type": "text"
      },
      "source": [
        "##Splitting data into train and test set"
      ]
    },
    {
      "cell_type": "markdown",
      "metadata": {
        "id": "0DMaKV6hQDON",
        "colab_type": "text"
      },
      "source": [
        "Splitting data into training and testing, features and target, with 25% test size"
      ]
    },
    {
      "cell_type": "code",
      "metadata": {
        "id": "krmm59J3lEeM",
        "colab_type": "code",
        "colab": {}
      },
      "source": [
        "X_train, X_test, y_train, y_test = train_test_split(X, y, test_size=0.25, random_state=12)"
      ],
      "execution_count": 14,
      "outputs": []
    },
    {
      "cell_type": "markdown",
      "metadata": {
        "id": "rCvGxdnKe5R6",
        "colab_type": "text"
      },
      "source": [
        "# Training Phase"
      ]
    },
    {
      "cell_type": "markdown",
      "metadata": {
        "id": "BM9skg2fECf6",
        "colab_type": "text"
      },
      "source": [
        "## Support Vector Machine"
      ]
    },
    {
      "cell_type": "markdown",
      "metadata": {
        "id": "z4yT3CsjHxvq",
        "colab_type": "text"
      },
      "source": [
        "### Define pipeline"
      ]
    },
    {
      "cell_type": "code",
      "metadata": {
        "id": "lR4z1-JOtfm1",
        "colab_type": "code",
        "colab": {}
      },
      "source": [
        "clf_svm = Pipeline([\n",
        "    ('vect', CountVectorizer()),\n",
        "    ('tfidf', TfidfTransformer()),\n",
        "    ('clfsvm', svm.SVC()),\n",
        "])"
      ],
      "execution_count": 15,
      "outputs": []
    },
    {
      "cell_type": "markdown",
      "metadata": {
        "id": "w-ZSbEAkEFd6",
        "colab_type": "text"
      },
      "source": [
        "### Define parameters"
      ]
    },
    {
      "cell_type": "code",
      "metadata": {
        "id": "UTp7BCcSeTbP",
        "colab_type": "code",
        "colab": {}
      },
      "source": [
        "parameters_svm = {\n",
        "    'vect__ngram_range': ((1, 1), (1, 2)),  # unigrams or bigrams\n",
        "    'tfidf__use_idf': (True, False),\n",
        "    'tfidf__norm': ('l1', 'l2'),\n",
        "    'clfsvm__class_weight': ('balanced',None)\n",
        "}"
      ],
      "execution_count": 16,
      "outputs": []
    },
    {
      "cell_type": "markdown",
      "metadata": {
        "id": "ai4_CpZGEIPC",
        "colab_type": "text"
      },
      "source": [
        "### Trainning support vector machine model"
      ]
    },
    {
      "cell_type": "code",
      "metadata": {
        "id": "SL5hLyFmeYIX",
        "colab_type": "code",
        "colab": {
          "base_uri": "https://localhost:8080/",
          "height": 272
        },
        "outputId": "d8e07d11-0433-48b5-f778-0f833b27a976"
      },
      "source": [
        "grid_search_svm = GridSearchCV(clf_svm, parameters_svm, n_jobs=-1, verbose=1)\n",
        "\n",
        "print(\"Performing grid search with Support Vector Machine Algorithm...\")\n",
        "print(\"pipeline:\", [name for name, _ in clf_svm.steps])\n",
        "print(\"parameters:\")\n",
        "print(parameters_svm)\n",
        "\n",
        "grid_search_svm.fit(X_train, y_train)\n",
        "print()\n",
        "\n",
        "print(\"Best score: %0.3f\" % grid_search_svm.best_score_)\n",
        "print(\"Best parameters set:\")\n",
        "best_parameters_svm = grid_search_svm.best_estimator_.get_params()\n",
        "for param_name in sorted(parameters_svm.keys()):\n",
        "    print(\"\\t%s: %r\" % (param_name, best_parameters_svm[param_name]))"
      ],
      "execution_count": 17,
      "outputs": [
        {
          "output_type": "stream",
          "text": [
            "Performing grid search with Support Vector Machine Algorithm...\n",
            "pipeline: ['vect', 'tfidf', 'clfsvm']\n",
            "parameters:\n",
            "{'vect__ngram_range': ((1, 1), (1, 2)), 'tfidf__use_idf': (True, False), 'tfidf__norm': ('l1', 'l2'), 'clfsvm__class_weight': ('balanced', None)}\n",
            "Fitting 5 folds for each of 16 candidates, totalling 80 fits\n"
          ],
          "name": "stdout"
        },
        {
          "output_type": "stream",
          "text": [
            "[Parallel(n_jobs=-1)]: Using backend LokyBackend with 2 concurrent workers.\n",
            "[Parallel(n_jobs=-1)]: Done  46 tasks      | elapsed:  2.1min\n",
            "[Parallel(n_jobs=-1)]: Done  80 out of  80 | elapsed:  3.7min finished\n"
          ],
          "name": "stderr"
        },
        {
          "output_type": "stream",
          "text": [
            "\n",
            "Best score: 0.702\n",
            "Best parameters set:\n",
            "\tclfsvm__class_weight: 'balanced'\n",
            "\ttfidf__norm: 'l2'\n",
            "\ttfidf__use_idf: True\n",
            "\tvect__ngram_range: (1, 1)\n"
          ],
          "name": "stdout"
        }
      ]
    },
    {
      "cell_type": "markdown",
      "metadata": {
        "id": "55e3lN7oEUpN",
        "colab_type": "text"
      },
      "source": [
        "###Evaluation model"
      ]
    },
    {
      "cell_type": "code",
      "metadata": {
        "id": "OsoqZKMKzn-E",
        "colab_type": "code",
        "colab": {
          "base_uri": "https://localhost:8080/",
          "height": 357
        },
        "outputId": "c773fae0-b64b-4e09-e042-14fa8657f9ca"
      },
      "source": [
        "y_pred_svm = grid_search_svm.predict(X_test)\n",
        "    \n",
        "print('Support Vector Machine Evaluation:\\n-------------------------\\n')\n",
        "print('Confusion matrix:\\n',confusion_matrix(y_test,y_pred_svm))\n",
        "print('\\nClassification Report:\\n',classification_report(y_test,y_pred_svm))\n",
        "print('Accuracy: ',accuracy_score(y_test, y_pred_svm))"
      ],
      "execution_count": 18,
      "outputs": [
        {
          "output_type": "stream",
          "text": [
            "Support Vector Machine Evaluation:\n",
            "-------------------------\n",
            "\n",
            "Confusion matrix:\n",
            " [[454  53  43]\n",
            " [ 93 191   8]\n",
            " [ 83  12  96]]\n",
            "\n",
            "Classification Report:\n",
            "                        precision    recall  f1-score   support\n",
            "\n",
            "Moderate Side Effects       0.72      0.83      0.77       550\n",
            "      No Side Effects       0.75      0.65      0.70       292\n",
            "  Severe Side Effects       0.65      0.50      0.57       191\n",
            "\n",
            "             accuracy                           0.72      1033\n",
            "            macro avg       0.71      0.66      0.68      1033\n",
            "         weighted avg       0.72      0.72      0.71      1033\n",
            "\n",
            "Accuracy:  0.7173281703775412\n"
          ],
          "name": "stdout"
        }
      ]
    },
    {
      "cell_type": "markdown",
      "metadata": {
        "id": "MCYWnUHLEvzH",
        "colab_type": "text"
      },
      "source": [
        "## Logistic Regression"
      ]
    },
    {
      "cell_type": "markdown",
      "metadata": {
        "id": "_vazcZM9H5sK",
        "colab_type": "text"
      },
      "source": [
        "### Define pipeline"
      ]
    },
    {
      "cell_type": "code",
      "metadata": {
        "id": "_2VFVG8gbl-_",
        "colab_type": "code",
        "colab": {}
      },
      "source": [
        "clf_lr = Pipeline([\n",
        "    ('vect', CountVectorizer()),\n",
        "    ('tfidf', TfidfTransformer()),\n",
        "    ('clflr', LogisticRegression()),\n",
        "])"
      ],
      "execution_count": 19,
      "outputs": []
    },
    {
      "cell_type": "markdown",
      "metadata": {
        "id": "N0AElfmRH74s",
        "colab_type": "text"
      },
      "source": [
        "### Define parameters"
      ]
    },
    {
      "cell_type": "code",
      "metadata": {
        "id": "cOf_UB2C3ux-",
        "colab_type": "code",
        "colab": {}
      },
      "source": [
        "parameters_lr = {\n",
        "    'vect__ngram_range': ((1, 1), (1, 2)),  # unigrams or bigrams\n",
        "    'tfidf__use_idf': (True, False),\n",
        "    'tfidf__norm': ('l1', 'l2'),\n",
        "    'clflr__class_weight': ('balanced',None),\n",
        "    'clflr__penalty': ('l1', 'l2', 'elasticnet', 'none')\n",
        "}"
      ],
      "execution_count": 20,
      "outputs": []
    },
    {
      "cell_type": "markdown",
      "metadata": {
        "id": "fOzkcvgjH-NL",
        "colab_type": "text"
      },
      "source": [
        "### Training logistic regression model"
      ]
    },
    {
      "cell_type": "code",
      "metadata": {
        "id": "b4_9_qSknXm4",
        "colab_type": "code",
        "colab": {
          "base_uri": "https://localhost:8080/",
          "height": 326
        },
        "outputId": "f6c4ec33-53d9-4742-853b-2ae4e5d474c0"
      },
      "source": [
        "grid_search_lr = GridSearchCV(clf_lr, parameters_lr, n_jobs=-1, verbose=2,cv=5)\n",
        "\n",
        "print(\"Performing grid search with Logistic Regression Algoritm...\")\n",
        "print(\"pipeline:\", [name for name, _ in clf_svm.steps])\n",
        "print(\"parameters:\")\n",
        "print(parameters_lr)\n",
        "\n",
        "grid_search_lr.fit(X_train, y_train)\n",
        "print()\n",
        "\n",
        "print(\"Best score: %0.3f\" % grid_search_lr.best_score_)\n",
        "print(\"Best parameters set:\")\n",
        "best_parameters_lr = grid_search_lr.best_estimator_.get_params()\n",
        "for param_name in sorted(parameters_lr.keys()):\n",
        "    print(\"\\t%s: %r\" % (param_name, best_parameters_lr[param_name]))"
      ],
      "execution_count": 21,
      "outputs": [
        {
          "output_type": "stream",
          "text": [
            "Performing grid search with Logistic Regression Algoritm...\n",
            "pipeline: ['vect', 'tfidf', 'clfsvm']\n",
            "parameters:\n",
            "{'vect__ngram_range': ((1, 1), (1, 2)), 'tfidf__use_idf': (True, False), 'tfidf__norm': ('l1', 'l2'), 'clflr__class_weight': ('balanced', None), 'clflr__penalty': ('l1', 'l2', 'elasticnet', 'none')}\n",
            "Fitting 5 folds for each of 64 candidates, totalling 320 fits\n"
          ],
          "name": "stdout"
        },
        {
          "output_type": "stream",
          "text": [
            "[Parallel(n_jobs=-1)]: Using backend LokyBackend with 2 concurrent workers.\n",
            "[Parallel(n_jobs=-1)]: Done  63 tasks      | elapsed:   16.1s\n",
            "[Parallel(n_jobs=-1)]: Done 184 tasks      | elapsed:  1.4min\n",
            "[Parallel(n_jobs=-1)]: Done 320 out of 320 | elapsed:  2.7min finished\n"
          ],
          "name": "stderr"
        },
        {
          "output_type": "stream",
          "text": [
            "\n",
            "Best score: 0.700\n",
            "Best parameters set:\n",
            "\tclflr__class_weight: None\n",
            "\tclflr__penalty: 'l2'\n",
            "\ttfidf__norm: 'l2'\n",
            "\ttfidf__use_idf: False\n",
            "\tvect__ngram_range: (1, 2)\n"
          ],
          "name": "stdout"
        }
      ]
    },
    {
      "cell_type": "markdown",
      "metadata": {
        "id": "6iAL01O1IIyQ",
        "colab_type": "text"
      },
      "source": [
        "### Evaluation model"
      ]
    },
    {
      "cell_type": "code",
      "metadata": {
        "id": "zfU2fSwz2Vla",
        "colab_type": "code",
        "colab": {
          "base_uri": "https://localhost:8080/",
          "height": 357
        },
        "outputId": "dfa7cdb4-6fdd-4f90-9ecf-abecf85f4638"
      },
      "source": [
        "y_pred_lr = grid_search_lr.predict(X_test)\n",
        "    \n",
        "print('Logistic Regression Evaluation:\\n-------------------------\\n')\n",
        "print('Confusion matrix:\\n',confusion_matrix(y_test,y_pred_lr))\n",
        "print('\\nClassification Report:\\n',classification_report(y_test,y_pred_lr))\n",
        "print('Accuracy: ',accuracy_score(y_test, y_pred_lr))"
      ],
      "execution_count": 22,
      "outputs": [
        {
          "output_type": "stream",
          "text": [
            "Logistic Regression Evaluation:\n",
            "-------------------------\n",
            "\n",
            "Confusion matrix:\n",
            " [[498  35  17]\n",
            " [115 174   3]\n",
            " [121  13  57]]\n",
            "\n",
            "Classification Report:\n",
            "                        precision    recall  f1-score   support\n",
            "\n",
            "Moderate Side Effects       0.68      0.91      0.78       550\n",
            "      No Side Effects       0.78      0.60      0.68       292\n",
            "  Severe Side Effects       0.74      0.30      0.43       191\n",
            "\n",
            "             accuracy                           0.71      1033\n",
            "            macro avg       0.73      0.60      0.63      1033\n",
            "         weighted avg       0.72      0.71      0.68      1033\n",
            "\n",
            "Accuracy:  0.7057115198451114\n"
          ],
          "name": "stdout"
        }
      ]
    },
    {
      "cell_type": "markdown",
      "metadata": {
        "id": "KuSGoDWnGUOg",
        "colab_type": "text"
      },
      "source": [
        "## Naive Bayes"
      ]
    },
    {
      "cell_type": "markdown",
      "metadata": {
        "id": "WZChF7shIPAU",
        "colab_type": "text"
      },
      "source": [
        "### Define pipeline"
      ]
    },
    {
      "cell_type": "code",
      "metadata": {
        "id": "QjX0ELKJ66Tu",
        "colab_type": "code",
        "colab": {}
      },
      "source": [
        "clf_nb = Pipeline([\n",
        "    ('vect', CountVectorizer()),\n",
        "    ('tfidf', TfidfTransformer()),\n",
        "    ('clfnb', MultinomialNB()),\n",
        "])"
      ],
      "execution_count": 23,
      "outputs": []
    },
    {
      "cell_type": "markdown",
      "metadata": {
        "id": "Stcv1xYfIS3-",
        "colab_type": "text"
      },
      "source": [
        "### Define parameters"
      ]
    },
    {
      "cell_type": "code",
      "metadata": {
        "id": "vySo4ikC2hR_",
        "colab_type": "code",
        "colab": {}
      },
      "source": [
        "parameters_nb = {\n",
        "    'vect__ngram_range': ((1, 1), (1, 2)),  # unigrams or bigrams\n",
        "    'tfidf__use_idf': (True, False),\n",
        "    'tfidf__norm': ('l1', 'l2'),\n",
        "    'clfnb__alpha': ( 0.0,0.25,0.5,0.75 ,1.0)\n",
        "}"
      ],
      "execution_count": 24,
      "outputs": []
    },
    {
      "cell_type": "markdown",
      "metadata": {
        "id": "ioc9s1AnIUf4",
        "colab_type": "text"
      },
      "source": [
        "### Training Naive Bayes model"
      ]
    },
    {
      "cell_type": "code",
      "metadata": {
        "id": "29Jg4tnK7VUM",
        "colab_type": "code",
        "colab": {
          "base_uri": "https://localhost:8080/",
          "height": 306
        },
        "outputId": "2556ab24-d5f3-4e21-eaf4-e5a450372a58"
      },
      "source": [
        "grid_search_nb = GridSearchCV(clf_nb, parameters_nb, n_jobs=-1, verbose=2,cv=5)\n",
        "\n",
        "print(\"Performing grid search with Naive Bayes algorithm...\")\n",
        "print(\"pipeline:\", [name for name, _ in clf_nb.steps])\n",
        "print(\"parameters:\")\n",
        "print(parameters_nb)\n",
        "\n",
        "grid_search_nb.fit(X_train, y_train)\n",
        "print()\n",
        "\n",
        "print(\"Best score: %0.3f\" % grid_search_nb.best_score_)\n",
        "print(\"Best parameters set:\")\n",
        "best_parameters_nb = grid_search_nb.best_estimator_.get_params()\n",
        "for param_name in sorted(parameters_nb.keys()):\n",
        "    print(\"\\t%s: %r\" % (param_name, best_parameters_nb[param_name]))"
      ],
      "execution_count": 25,
      "outputs": [
        {
          "output_type": "stream",
          "text": [
            "Performing grid search with Naive Bayes algorithm...\n",
            "pipeline: ['vect', 'tfidf', 'clfnb']\n",
            "parameters:\n",
            "{'vect__ngram_range': ((1, 1), (1, 2)), 'tfidf__use_idf': (True, False), 'tfidf__norm': ('l1', 'l2'), 'clfnb__alpha': (0.0, 0.25, 0.5, 0.75, 1.0)}\n",
            "Fitting 5 folds for each of 40 candidates, totalling 200 fits\n"
          ],
          "name": "stdout"
        },
        {
          "output_type": "stream",
          "text": [
            "[Parallel(n_jobs=-1)]: Using backend LokyBackend with 2 concurrent workers.\n",
            "[Parallel(n_jobs=-1)]: Done  70 tasks      | elapsed:   12.6s\n",
            "[Parallel(n_jobs=-1)]: Done 200 out of 200 | elapsed:   35.7s finished\n"
          ],
          "name": "stderr"
        },
        {
          "output_type": "stream",
          "text": [
            "\n",
            "Best score: 0.606\n",
            "Best parameters set:\n",
            "\tclfnb__alpha: 0.0\n",
            "\ttfidf__norm: 'l2'\n",
            "\ttfidf__use_idf: False\n",
            "\tvect__ngram_range: (1, 2)\n"
          ],
          "name": "stdout"
        },
        {
          "output_type": "stream",
          "text": [
            "/usr/local/lib/python3.6/dist-packages/sklearn/naive_bayes.py:507: UserWarning: alpha too small will result in numeric errors, setting alpha = 1.0e-10\n",
            "  'setting alpha = %.1e' % _ALPHA_MIN)\n"
          ],
          "name": "stderr"
        }
      ]
    },
    {
      "cell_type": "markdown",
      "metadata": {
        "id": "S96fKdAmIXb-",
        "colab_type": "text"
      },
      "source": [
        "### Evaluation model"
      ]
    },
    {
      "cell_type": "code",
      "metadata": {
        "id": "OKGYXqOu7h36",
        "colab_type": "code",
        "colab": {
          "base_uri": "https://localhost:8080/",
          "height": 357
        },
        "outputId": "27dab176-ef37-45fd-c9d1-8a3d9154b891"
      },
      "source": [
        "y_pred_nb = grid_search_nb.predict(X_test)\n",
        "    \n",
        "print('Naive Bayes Evaluation:\\n-------------------------\\n')\n",
        "print('Confusion matrix:\\n',confusion_matrix(y_test,y_pred_nb))\n",
        "print('\\nClassification Report:\\n',classification_report(y_test,y_pred_nb))\n",
        "print('Accuracy: ',accuracy_score(y_test, y_pred_nb))"
      ],
      "execution_count": 26,
      "outputs": [
        {
          "output_type": "stream",
          "text": [
            "Naive Bayes Evaluation:\n",
            "-------------------------\n",
            "\n",
            "Confusion matrix:\n",
            " [[504  36  10]\n",
            " [181  99  12]\n",
            " [159   3  29]]\n",
            "\n",
            "Classification Report:\n",
            "                        precision    recall  f1-score   support\n",
            "\n",
            "Moderate Side Effects       0.60      0.92      0.72       550\n",
            "      No Side Effects       0.72      0.34      0.46       292\n",
            "  Severe Side Effects       0.57      0.15      0.24       191\n",
            "\n",
            "             accuracy                           0.61      1033\n",
            "            macro avg       0.63      0.47      0.47      1033\n",
            "         weighted avg       0.63      0.61      0.56      1033\n",
            "\n",
            "Accuracy:  0.611810261374637\n"
          ],
          "name": "stdout"
        }
      ]
    }
  ]
}