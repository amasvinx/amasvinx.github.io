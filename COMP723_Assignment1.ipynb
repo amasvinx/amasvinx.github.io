{
  "nbformat": 4,
  "nbformat_minor": 0,
  "metadata": {
    "colab": {
      "name": "COMP723_Assignment1.ipynb",
      "provenance": [],
      "collapsed_sections": [],
      "toc_visible": true,
      "authorship_tag": "ABX9TyNukxQ5mK9A5UhpDFPAQtFG",
      "include_colab_link": true
    },
    "kernelspec": {
      "name": "python3",
      "display_name": "Python 3"
    },
    "accelerator": "GPU"
  },
  "cells": [
    {
      "cell_type": "markdown",
      "metadata": {
        "id": "view-in-github",
        "colab_type": "text"
      },
      "source": [
        "<a href=\"https://colab.research.google.com/github/amasvinx/amasvinx.github.io/blob/master/COMP723_Assignment1.ipynb\" target=\"_parent\"><img src=\"https://colab.research.google.com/assets/colab-badge.svg\" alt=\"Open In Colab\"/></a>"
      ]
    },
    {
      "cell_type": "markdown",
      "metadata": {
        "id": "7KbfRODgsIaa",
        "colab_type": "text"
      },
      "source": [
        "# Initial Phase"
      ]
    },
    {
      "cell_type": "markdown",
      "metadata": {
        "id": "ffh6aCh5fJCH",
        "colab_type": "text"
      },
      "source": [
        "## Import libaries"
      ]
    },
    {
      "cell_type": "markdown",
      "metadata": {
        "id": "Y9WShsjrVPcz",
        "colab_type": "text"
      },
      "source": [
        "Util library for handling data :"
      ]
    },
    {
      "cell_type": "code",
      "metadata": {
        "id": "dhAEQZgHXdH5",
        "colab_type": "code",
        "colab": {
          "base_uri": "https://localhost:8080/",
          "height": 68
        },
        "outputId": "1a18a7ac-a5ed-4158-c9fb-cd9662d5a679"
      },
      "source": [
        "import re\n",
        "import nltk\n",
        "nltk.download('wordnet')"
      ],
      "execution_count": 1,
      "outputs": [
        {
          "output_type": "stream",
          "text": [
            "[nltk_data] Downloading package wordnet to /root/nltk_data...\n",
            "[nltk_data]   Package wordnet is already up-to-date!\n"
          ],
          "name": "stdout"
        },
        {
          "output_type": "execute_result",
          "data": {
            "text/plain": [
              "True"
            ]
          },
          "metadata": {
            "tags": []
          },
          "execution_count": 1
        }
      ]
    },
    {
      "cell_type": "code",
      "metadata": {
        "id": "LY4HQ_3BliHh",
        "colab_type": "code",
        "colab": {}
      },
      "source": [
        "import matplotlib.pyplot as plt\n",
        "%matplotlib inline"
      ],
      "execution_count": 2,
      "outputs": []
    },
    {
      "cell_type": "code",
      "metadata": {
        "id": "BqBc64dKlh0h",
        "colab_type": "code",
        "colab": {}
      },
      "source": [
        "import pandas as pd\n",
        "pd.set_option('max_colwidth',600)"
      ],
      "execution_count": 3,
      "outputs": []
    },
    {
      "cell_type": "markdown",
      "metadata": {
        "id": "lg41DSy9U7TN",
        "colab_type": "text"
      },
      "source": [
        "Using Scikit Learn for training model and classification :"
      ]
    },
    {
      "cell_type": "code",
      "metadata": {
        "id": "Rhf3XK85UomS",
        "colab_type": "code",
        "colab": {}
      },
      "source": [
        "# BOW\n",
        "from sklearn.feature_extraction.text import CountVectorizer, TfidfTransformer\n",
        "\n",
        "# Training\n",
        "from sklearn.pipeline import Pipeline\n",
        "from sklearn.model_selection import GridSearchCV, train_test_split\n",
        "\n",
        "# Models\n",
        "from sklearn.naive_bayes import MultinomialNB\n",
        "from sklearn.linear_model import LogisticRegression\n",
        "from sklearn.linear_model import SGDClassifier\n",
        "from sklearn import svm\n",
        "\n",
        "# Validation\n",
        "from sklearn.metrics import classification_report, confusion_matrix, accuracy_score"
      ],
      "execution_count": 4,
      "outputs": []
    },
    {
      "cell_type": "markdown",
      "metadata": {
        "id": "mTQAXz80U3Fa",
        "colab_type": "text"
      },
      "source": [
        "Using spacy for text preprocessing :"
      ]
    },
    {
      "cell_type": "code",
      "metadata": {
        "id": "AYBDL_KybXdr",
        "colab_type": "code",
        "colab": {}
      },
      "source": [
        "# !python -m spacy download en_core_web_lg"
      ],
      "execution_count": 5,
      "outputs": []
    },
    {
      "cell_type": "code",
      "metadata": {
        "id": "rAqPQpjXUm1T",
        "colab_type": "code",
        "colab": {
          "base_uri": "https://localhost:8080/",
          "height": 34
        },
        "outputId": "273c58ec-50ec-452a-cd8b-3cc789d08104"
      },
      "source": [
        "import spacy\n",
        "nlp = spacy.load('en_core_web_lg')\n",
        "nlp.remove_pipe('ner')"
      ],
      "execution_count": 6,
      "outputs": [
        {
          "output_type": "execute_result",
          "data": {
            "text/plain": [
              "('ner', <spacy.pipeline.pipes.EntityRecognizer at 0x7fd28f324468>)"
            ]
          },
          "metadata": {
            "tags": []
          },
          "execution_count": 6
        }
      ]
    },
    {
      "cell_type": "markdown",
      "metadata": {
        "id": "Ti_IIJ8hVGnI",
        "colab_type": "text"
      },
      "source": [
        "Mount Google Drive for retrieving dataset :"
      ]
    },
    {
      "cell_type": "code",
      "metadata": {
        "id": "1F5zRdgoXgtK",
        "colab_type": "code",
        "colab": {
          "base_uri": "https://localhost:8080/",
          "height": 51
        },
        "outputId": "ccbc21a3-ff6d-4f6a-d4ff-d1b61064617f"
      },
      "source": [
        "from google.colab import drive\n",
        "drive.mount('/gdrive')\n",
        "%cd /gdrive/'My Drive'/'Colab Notebooks'"
      ],
      "execution_count": 7,
      "outputs": [
        {
          "output_type": "stream",
          "text": [
            "Drive already mounted at /gdrive; to attempt to forcibly remount, call drive.mount(\"/gdrive\", force_remount=True).\n",
            "/gdrive/My Drive/Colab Notebooks\n"
          ],
          "name": "stdout"
        }
      ]
    },
    {
      "cell_type": "markdown",
      "metadata": {
        "id": "UobCP4UXsRKa",
        "colab_type": "text"
      },
      "source": [
        "## Load Dataset"
      ]
    },
    {
      "cell_type": "markdown",
      "metadata": {
        "id": "IbyiPz91Vdk8",
        "colab_type": "text"
      },
      "source": [
        "Import dataset into dataframe using pandas :"
      ]
    },
    {
      "cell_type": "code",
      "metadata": {
        "id": "zVyyMT0hbb6G",
        "colab_type": "code",
        "colab": {}
      },
      "source": [
        "def prepare_dataset():\n",
        "    df1=pd.read_csv('druglib_data/drugLibTrain_raw.tsv',sep='\\t')\n",
        "    df2=pd.read_csv('druglib_data/drugLibTest_raw.tsv', sep='\\t')\n",
        "    df = df1.append(df2, ignore_index=True, sort=False)\n",
        "    return df"
      ],
      "execution_count": 8,
      "outputs": []
    },
    {
      "cell_type": "markdown",
      "metadata": {
        "id": "3T1DaN7GVjI8",
        "colab_type": "text"
      },
      "source": [
        "The function process the given dataframe with simplified_target variable, return dataframe with only feature and target column from the imported dataset.\n",
        "\n",
        "Simplified_target variable: \n",
        "- True for reducing the range of sideEffects from 5 to 3\n",
        "- False for keeping sideEffects range (5)\n"
      ]
    },
    {
      "cell_type": "code",
      "metadata": {
        "id": "cs9lTiJKVaDy",
        "colab_type": "code",
        "colab": {}
      },
      "source": [
        "def define_feature_target(df, simplified_target):\n",
        "    df[\"text\"] = df[\"condition\"] + \" \"+  df[\"sideEffectsReview\"] +\" \"+ df[\"commentsReview\"]\n",
        "\n",
        "    if(simplified_target==True):\n",
        "        sideEffects_order_map = {'No Side Effects': 'No Side Effects', 'Mild Side Effects': 'Moderate Side Effects', 'Moderate Side Effects': 'Moderate Side Effects', \n",
        "                   'Severe Side Effects': 'Severe Side Effects', 'Extremely Severe Side Effects': 'Severe Side Effects'}\n",
        "                \n",
        "        df['target'] = df['sideEffects'].map(sideEffects_order_map)\n",
        "    else:\n",
        "        df['target'] = df.sideEffects\n",
        "\n",
        "    df= df[[\"text\",\"target\"]]\n",
        "    return df"
      ],
      "execution_count": 9,
      "outputs": []
    },
    {
      "cell_type": "markdown",
      "metadata": {
        "id": "aZseE-m0VpVh",
        "colab_type": "text"
      },
      "source": [
        "Return dataframe with feature and target retrieved from the import data"
      ]
    },
    {
      "cell_type": "code",
      "metadata": {
        "id": "p1nPsscXVbrV",
        "colab_type": "code",
        "colab": {}
      },
      "source": [
        "def load_dataset(simplified_target = True):\n",
        "    df = prepare_dataset()\n",
        "    df = define_feature_target(df, simplified_target)\n",
        "    return df"
      ],
      "execution_count": 10,
      "outputs": []
    },
    {
      "cell_type": "code",
      "metadata": {
        "id": "u1SD0GzmVc1Q",
        "colab_type": "code",
        "colab": {}
      },
      "source": [
        "df = load_dataset(True)"
      ],
      "execution_count": 11,
      "outputs": []
    },
    {
      "cell_type": "markdown",
      "metadata": {
        "id": "frzL5q01sT5M",
        "colab_type": "text"
      },
      "source": [
        "## Visualize Dataset\n",
        "Plot the target columns"
      ]
    },
    {
      "cell_type": "code",
      "metadata": {
        "id": "5YGbFKyPXiup",
        "colab_type": "code",
        "colab": {}
      },
      "source": [
        "def plot_target(df, simplified_target=True):\n",
        "    plt.figure(1, figsize=(32,8))\n",
        "    plt.subplot(1,2,1)\n",
        "    if simplified_target == False:\n",
        "        _=plt.bar([\"None\",\"Mild\",\"Moderate\",\"Severe\",\"Extremely Severe\"],\n",
        "                [df[df.target==\"No Side Effects\"].shape[0],\n",
        "                df[df.target==\"Mild Side Effects\"].shape[0],\n",
        "                df[df.target==\"Moderate Side Effects\"].shape[0],\n",
        "                df[df.target==\"Severe Side Effects\"].shape[0],\n",
        "                df[df.target==\"Extremely Severe Side Effects\"].shape[0]])\n",
        "    else:\n",
        "        _=plt.bar([\"None\",\"Moderate\",\"Severe\"],\n",
        "                [df[df.target=='No Side Effects'].shape[0],\n",
        "                df[df.target=='Moderate Side Effects'].shape[0],\n",
        "                df[df.target=='Severe Side Effects'].shape[0]])\n",
        "    return plt"
      ],
      "execution_count": 12,
      "outputs": []
    },
    {
      "cell_type": "code",
      "metadata": {
        "id": "hgJ8dLwpJV4E",
        "colab_type": "code",
        "colab": {
          "base_uri": "https://localhost:8080/",
          "height": 500
        },
        "outputId": "cce26eea-7b90-45a5-b306-7b3e25cff43e"
      },
      "source": [
        "plot_target(df,True)"
      ],
      "execution_count": 13,
      "outputs": [
        {
          "output_type": "execute_result",
          "data": {
            "text/plain": [
              "<module 'matplotlib.pyplot' from '/usr/local/lib/python3.6/dist-packages/matplotlib/pyplot.py'>"
            ]
          },
          "metadata": {
            "tags": []
          },
          "execution_count": 13
        },
        {
          "output_type": "display_data",
          "data": {
            "image/png": "[encoded data removed]",
            "text/plain": [
              "<Figure size 2304x576 with 1 Axes>"
            ]
          },
          "metadata": {
            "tags": [],
            "needs_background": "light"
          }
        }
      ]
    },
    {
      "cell_type": "code",
      "metadata": {
        "id": "MTERqnTBXOI5",
        "colab_type": "code",
        "colab": {
          "base_uri": "https://localhost:8080/",
          "height": 170
        },
        "outputId": "2bf702e5-0700-4f22-af3d-ae41542194b7"
      },
      "source": [
        "df.info()"
      ],
      "execution_count": 14,
      "outputs": [
        {
          "output_type": "stream",
          "text": [
            "<class 'pandas.core.frame.DataFrame'>\n",
            "RangeIndex: 4143 entries, 0 to 4142\n",
            "Data columns (total 2 columns):\n",
            " #   Column  Non-Null Count  Dtype \n",
            "---  ------  --------------  ----- \n",
            " 0   text    4132 non-null   object\n",
            " 1   target  4143 non-null   object\n",
            "dtypes: object(2)\n",
            "memory usage: 64.9+ KB\n"
          ],
          "name": "stdout"
        }
      ]
    },
    {
      "cell_type": "markdown",
      "metadata": {
        "id": "SCkBSNb-sZbW",
        "colab_type": "text"
      },
      "source": [
        "# Preprocessing Phase"
      ]
    },
    {
      "cell_type": "markdown",
      "metadata": {
        "id": "-SVJVSiHPITx",
        "colab_type": "text"
      },
      "source": [
        "## Clean text\n",
        "\n",
        "Clean text with remove special character and extract only noun, verb, adjective, number and other words ( no punctuation, no stopwords, ...)"
      ]
    },
    {
      "cell_type": "code",
      "metadata": {
        "id": "ctwO_hGCCzTa",
        "colab_type": "code",
        "colab": {}
      },
      "source": [
        "def preprocessingText(text):\n",
        "    # Remove all the special characters\n",
        "    text = re.sub(r'\\W', ' ', text)\n",
        "\n",
        "    # Preprocessing with spacy\n",
        "    doc = nlp(text)\n",
        "    text = [token.lemma_.lower() for token in doc if token.pos_ in ('NOUN','VERB','ADJ','NUM','X')]\n",
        "    text = ' '.join(text)\n",
        "\n",
        "    return text"
      ],
      "execution_count": 15,
      "outputs": []
    },
    {
      "cell_type": "code",
      "metadata": {
        "id": "ab5PeL_UDruI",
        "colab_type": "code",
        "colab": {}
      },
      "source": [
        "def preprocessingDataframe(df):\n",
        "    # Remove na row\n",
        "    df = df.dropna()\n",
        "\n",
        "    # Apply preprocessingText function for each row in text columns\n",
        "    df.text=df.text.apply(lambda x:preprocessingText(x))\n",
        "\n",
        "    return df.text.values,df.target.values"
      ],
      "execution_count": 16,
      "outputs": []
    },
    {
      "cell_type": "code",
      "metadata": {
        "id": "5B2W11dcD13o",
        "colab_type": "code",
        "colab": {
          "base_uri": "https://localhost:8080/",
          "height": 119
        },
        "outputId": "a78ff7eb-6573-4a67-fe9a-ded92be404b5"
      },
      "source": [
        "X, y = preprocessingDataframe(df)"
      ],
      "execution_count": 17,
      "outputs": [
        {
          "output_type": "stream",
          "text": [
            "/usr/local/lib/python3.6/dist-packages/pandas/core/generic.py:5303: SettingWithCopyWarning: \n",
            "A value is trying to be set on a copy of a slice from a DataFrame.\n",
            "Try using .loc[row_indexer,col_indexer] = value instead\n",
            "\n",
            "See the caveats in the documentation: https://pandas.pydata.org/pandas-docs/stable/user_guide/indexing.html#returning-a-view-versus-a-copy\n",
            "  self[name] = value\n"
          ],
          "name": "stderr"
        }
      ]
    },
    {
      "cell_type": "markdown",
      "metadata": {
        "id": "2KJXkdr2sdp-",
        "colab_type": "text"
      },
      "source": [
        "##Splitting data into train and test set"
      ]
    },
    {
      "cell_type": "markdown",
      "metadata": {
        "id": "0DMaKV6hQDON",
        "colab_type": "text"
      },
      "source": [
        "Splitting data into training and testing, features and target, with 25% test size"
      ]
    },
    {
      "cell_type": "code",
      "metadata": {
        "id": "krmm59J3lEeM",
        "colab_type": "code",
        "colab": {}
      },
      "source": [
        "X_train, X_test, y_train, y_test = train_test_split(X, y, test_size=0.25, random_state=12)"
      ],
      "execution_count": 18,
      "outputs": []
    },
    {
      "cell_type": "markdown",
      "metadata": {
        "id": "rCvGxdnKe5R6",
        "colab_type": "text"
      },
      "source": [
        "# Training Phase"
      ]
    },
    {
      "cell_type": "markdown",
      "metadata": {
        "id": "BM9skg2fECf6",
        "colab_type": "text"
      },
      "source": [
        "## Support Vector Machine"
      ]
    },
    {
      "cell_type": "markdown",
      "metadata": {
        "id": "z4yT3CsjHxvq",
        "colab_type": "text"
      },
      "source": [
        "### Define pipeline"
      ]
    },
    {
      "cell_type": "code",
      "metadata": {
        "id": "lR4z1-JOtfm1",
        "colab_type": "code",
        "colab": {}
      },
      "source": [
        "clf_svm = Pipeline([\n",
        "    ('vect', CountVectorizer()),\n",
        "    ('tfidf', TfidfTransformer()),\n",
        "    ('clfsvm', svm.SVC()),\n",
        "])"
      ],
      "execution_count": 19,
      "outputs": []
    },
    {
      "cell_type": "markdown",
      "metadata": {
        "id": "w-ZSbEAkEFd6",
        "colab_type": "text"
      },
      "source": [
        "### Define parameters"
      ]
    },
    {
      "cell_type": "code",
      "metadata": {
        "id": "UTp7BCcSeTbP",
        "colab_type": "code",
        "colab": {}
      },
      "source": [
        "parameters_svm = {\n",
        "    'vect__ngram_range': ((1, 1), (1, 2)),  # unigrams or bigrams\n",
        "    'tfidf__use_idf': (True, False),\n",
        "    'tfidf__norm': ('l1', 'l2'),\n",
        "    'clfsvm__class_weight': ('balanced',None)\n",
        "}"
      ],
      "execution_count": 20,
      "outputs": []
    },
    {
      "cell_type": "markdown",
      "metadata": {
        "id": "ai4_CpZGEIPC",
        "colab_type": "text"
      },
      "source": [
        "### Trainning support vector machine model"
      ]
    },
    {
      "cell_type": "code",
      "metadata": {
        "id": "SL5hLyFmeYIX",
        "colab_type": "code",
        "colab": {
          "base_uri": "https://localhost:8080/",
          "height": 272
        },
        "outputId": "a064f0be-2d3c-4dd0-e084-254aafd496b0"
      },
      "source": [
        "grid_search_svm = GridSearchCV(clf_svm, parameters_svm, n_jobs=-1, verbose=1)\n",
        "\n",
        "print(\"Performing grid search with Support Vector Machine Algorithm...\")\n",
        "print(\"pipeline:\", [name for name, _ in clf_svm.steps])\n",
        "print(\"parameters:\")\n",
        "print(parameters_svm)\n",
        "\n",
        "grid_search_svm.fit(X_train, y_train)\n",
        "print()\n",
        "\n",
        "print(\"Best score: %0.3f\" % grid_search_svm.best_score_)\n",
        "print(\"Best parameters set:\")\n",
        "best_parameters_svm = grid_search_svm.best_estimator_.get_params()\n",
        "for param_name in sorted(parameters_svm.keys()):\n",
        "    print(\"\\t%s: %r\" % (param_name, best_parameters_svm[param_name]))"
      ],
      "execution_count": 21,
      "outputs": [
        {
          "output_type": "stream",
          "text": [
            "Performing grid search with Support Vector Machine Algorithm...\n",
            "pipeline: ['vect', 'tfidf', 'clfsvm']\n",
            "parameters:\n",
            "{'vect__ngram_range': ((1, 1), (1, 2)), 'tfidf__use_idf': (True, False), 'tfidf__norm': ('l1', 'l2'), 'clfsvm__class_weight': ('balanced', None)}\n",
            "Fitting 5 folds for each of 16 candidates, totalling 80 fits\n"
          ],
          "name": "stdout"
        },
        {
          "output_type": "stream",
          "text": [
            "[Parallel(n_jobs=-1)]: Using backend LokyBackend with 2 concurrent workers.\n",
            "[Parallel(n_jobs=-1)]: Done  46 tasks      | elapsed:  2.3min\n",
            "[Parallel(n_jobs=-1)]: Done  80 out of  80 | elapsed:  4.0min finished\n"
          ],
          "name": "stderr"
        },
        {
          "output_type": "stream",
          "text": [
            "\n",
            "Best score: 0.702\n",
            "Best parameters set:\n",
            "\tclfsvm__class_weight: 'balanced'\n",
            "\ttfidf__norm: 'l2'\n",
            "\ttfidf__use_idf: True\n",
            "\tvect__ngram_range: (1, 1)\n"
          ],
          "name": "stdout"
        }
      ]
    },
    {
      "cell_type": "markdown",
      "metadata": {
        "id": "55e3lN7oEUpN",
        "colab_type": "text"
      },
      "source": [
        "###Evaluation model"
      ]
    },
    {
      "cell_type": "code",
      "metadata": {
        "id": "OsoqZKMKzn-E",
        "colab_type": "code",
        "colab": {
          "base_uri": "https://localhost:8080/",
          "height": 357
        },
        "outputId": "489a775d-319b-4f66-ab30-2f8be95ec288"
      },
      "source": [
        "y_pred_svm = grid_search_svm.predict(X_test)\n",
        "    \n",
        "print('Support Vector Machine Evaluation:\\n-------------------------\\n')\n",
        "print('Confusion matrix:\\n',confusion_matrix(y_test,y_pred_svm))\n",
        "print('\\nClassification Report:\\n',classification_report(y_test,y_pred_svm))\n",
        "print('Accuracy: ',accuracy_score(y_test, y_pred_svm))"
      ],
      "execution_count": 22,
      "outputs": [
        {
          "output_type": "stream",
          "text": [
            "Support Vector Machine Evaluation:\n",
            "-------------------------\n",
            "\n",
            "Confusion matrix:\n",
            " [[454  53  43]\n",
            " [ 93 191   8]\n",
            " [ 83  12  96]]\n",
            "\n",
            "Classification Report:\n",
            "                        precision    recall  f1-score   support\n",
            "\n",
            "Moderate Side Effects       0.72      0.83      0.77       550\n",
            "      No Side Effects       0.75      0.65      0.70       292\n",
            "  Severe Side Effects       0.65      0.50      0.57       191\n",
            "\n",
            "             accuracy                           0.72      1033\n",
            "            macro avg       0.71      0.66      0.68      1033\n",
            "         weighted avg       0.72      0.72      0.71      1033\n",
            "\n",
            "Accuracy:  0.7173281703775412\n"
          ],
          "name": "stdout"
        }
      ]
    },
    {
      "cell_type": "markdown",
      "metadata": {
        "id": "MCYWnUHLEvzH",
        "colab_type": "text"
      },
      "source": [
        "## Logistic Regression"
      ]
    },
    {
      "cell_type": "markdown",
      "metadata": {
        "id": "_vazcZM9H5sK",
        "colab_type": "text"
      },
      "source": [
        "### Define pipeline"
      ]
    },
    {
      "cell_type": "code",
      "metadata": {
        "id": "_2VFVG8gbl-_",
        "colab_type": "code",
        "colab": {}
      },
      "source": [
        "clf_lr = Pipeline([\n",
        "    ('vect', CountVectorizer()),\n",
        "    ('tfidf', TfidfTransformer()),\n",
        "    ('clflr', LogisticRegression()),\n",
        "])"
      ],
      "execution_count": 23,
      "outputs": []
    },
    {
      "cell_type": "markdown",
      "metadata": {
        "id": "N0AElfmRH74s",
        "colab_type": "text"
      },
      "source": [
        "### Define parameters"
      ]
    },
    {
      "cell_type": "code",
      "metadata": {
        "id": "cOf_UB2C3ux-",
        "colab_type": "code",
        "colab": {}
      },
      "source": [
        "parameters_lr = {\n",
        "    'vect__ngram_range': ((1, 1), (1, 2)),  # unigrams or bigrams\n",
        "    'tfidf__use_idf': (True, False),\n",
        "    'tfidf__norm': ('l1', 'l2'),\n",
        "    'clflr__class_weight': ('balanced',None),\n",
        "    'clflr__penalty': ('l1', 'l2', 'elasticnet', 'none')\n",
        "}"
      ],
      "execution_count": 24,
      "outputs": []
    },
    {
      "cell_type": "markdown",
      "metadata": {
        "id": "fOzkcvgjH-NL",
        "colab_type": "text"
      },
      "source": [
        "### Training logistic regression model"
      ]
    },
    {
      "cell_type": "code",
      "metadata": {
        "id": "b4_9_qSknXm4",
        "colab_type": "code",
        "colab": {
          "base_uri": "https://localhost:8080/",
          "height": 326
        },
        "outputId": "d4cde4b9-e094-4936-d7d2-b03a2f2802c4"
      },
      "source": [
        "grid_search_lr = GridSearchCV(clf_lr, parameters_lr, n_jobs=-1, verbose=2,cv=5)\n",
        "\n",
        "print(\"Performing grid search with Logistic Regression Algoritm...\")\n",
        "print(\"pipeline:\", [name for name, _ in clf_svm.steps])\n",
        "print(\"parameters:\")\n",
        "print(parameters_lr)\n",
        "\n",
        "grid_search_lr.fit(X_train, y_train)\n",
        "print()\n",
        "\n",
        "print(\"Best score: %0.3f\" % grid_search_lr.best_score_)\n",
        "print(\"Best parameters set:\")\n",
        "best_parameters_lr = grid_search_lr.best_estimator_.get_params()\n",
        "for param_name in sorted(parameters_lr.keys()):\n",
        "    print(\"\\t%s: %r\" % (param_name, best_parameters_lr[param_name]))"
      ],
      "execution_count": 25,
      "outputs": [
        {
          "output_type": "stream",
          "text": [
            "Performing grid search with Logistic Regression Algoritm...\n",
            "pipeline: ['vect', 'tfidf', 'clfsvm']\n",
            "parameters:\n",
            "{'vect__ngram_range': ((1, 1), (1, 2)), 'tfidf__use_idf': (True, False), 'tfidf__norm': ('l1', 'l2'), 'clflr__class_weight': ('balanced', None), 'clflr__penalty': ('l1', 'l2', 'elasticnet', 'none')}\n",
            "Fitting 5 folds for each of 64 candidates, totalling 320 fits\n"
          ],
          "name": "stdout"
        },
        {
          "output_type": "stream",
          "text": [
            "[Parallel(n_jobs=-1)]: Using backend LokyBackend with 2 concurrent workers.\n",
            "[Parallel(n_jobs=-1)]: Done  63 tasks      | elapsed:   17.3s\n",
            "[Parallel(n_jobs=-1)]: Done 184 tasks      | elapsed:  1.5min\n",
            "[Parallel(n_jobs=-1)]: Done 320 out of 320 | elapsed:  2.9min finished\n"
          ],
          "name": "stderr"
        },
        {
          "output_type": "stream",
          "text": [
            "\n",
            "Best score: 0.700\n",
            "Best parameters set:\n",
            "\tclflr__class_weight: None\n",
            "\tclflr__penalty: 'l2'\n",
            "\ttfidf__norm: 'l2'\n",
            "\ttfidf__use_idf: False\n",
            "\tvect__ngram_range: (1, 2)\n"
          ],
          "name": "stdout"
        }
      ]
    },
    {
      "cell_type": "markdown",
      "metadata": {
        "id": "6iAL01O1IIyQ",
        "colab_type": "text"
      },
      "source": [
        "### Evaluation model"
      ]
    },
    {
      "cell_type": "code",
      "metadata": {
        "id": "zfU2fSwz2Vla",
        "colab_type": "code",
        "colab": {
          "base_uri": "https://localhost:8080/",
          "height": 357
        },
        "outputId": "0cd91f60-76c2-447e-c34f-c572cd2ad850"
      },
      "source": [
        "y_pred_lr = grid_search_lr.predict(X_test)\n",
        "    \n",
        "print('Logistic Regression Evaluation:\\n-------------------------\\n')\n",
        "print('Confusion matrix:\\n',confusion_matrix(y_test,y_pred_lr))\n",
        "print('\\nClassification Report:\\n',classification_report(y_test,y_pred_lr))\n",
        "print('Accuracy: ',accuracy_score(y_test, y_pred_lr))"
      ],
      "execution_count": 26,
      "outputs": [
        {
          "output_type": "stream",
          "text": [
            "Logistic Regression Evaluation:\n",
            "-------------------------\n",
            "\n",
            "Confusion matrix:\n",
            " [[498  35  17]\n",
            " [115 174   3]\n",
            " [121  13  57]]\n",
            "\n",
            "Classification Report:\n",
            "                        precision    recall  f1-score   support\n",
            "\n",
            "Moderate Side Effects       0.68      0.91      0.78       550\n",
            "      No Side Effects       0.78      0.60      0.68       292\n",
            "  Severe Side Effects       0.74      0.30      0.43       191\n",
            "\n",
            "             accuracy                           0.71      1033\n",
            "            macro avg       0.73      0.60      0.63      1033\n",
            "         weighted avg       0.72      0.71      0.68      1033\n",
            "\n",
            "Accuracy:  0.7057115198451114\n"
          ],
          "name": "stdout"
        }
      ]
    },
    {
      "cell_type": "markdown",
      "metadata": {
        "id": "KuSGoDWnGUOg",
        "colab_type": "text"
      },
      "source": [
        "## Naive Bayes"
      ]
    },
    {
      "cell_type": "markdown",
      "metadata": {
        "id": "WZChF7shIPAU",
        "colab_type": "text"
      },
      "source": [
        "### Define pipeline"
      ]
    },
    {
      "cell_type": "code",
      "metadata": {
        "id": "QjX0ELKJ66Tu",
        "colab_type": "code",
        "colab": {}
      },
      "source": [
        "clf_nb = Pipeline([\n",
        "    ('vect', CountVectorizer()),\n",
        "    ('tfidf', TfidfTransformer()),\n",
        "    ('clfnb', MultinomialNB()),\n",
        "])"
      ],
      "execution_count": 27,
      "outputs": []
    },
    {
      "cell_type": "markdown",
      "metadata": {
        "id": "Stcv1xYfIS3-",
        "colab_type": "text"
      },
      "source": [
        "### Define parameters"
      ]
    },
    {
      "cell_type": "code",
      "metadata": {
        "id": "vySo4ikC2hR_",
        "colab_type": "code",
        "colab": {}
      },
      "source": [
        "parameters_nb = {\n",
        "    'vect__ngram_range': ((1, 1), (1, 2)),  # unigrams or bigrams\n",
        "    'tfidf__use_idf': (True, False),\n",
        "    'tfidf__norm': ('l1', 'l2'),\n",
        "    'clfnb__alpha': ( 0.0,0.25,0.5,0.75 ,1.0)\n",
        "}"
      ],
      "execution_count": 28,
      "outputs": []
    },
    {
      "cell_type": "markdown",
      "metadata": {
        "id": "ioc9s1AnIUf4",
        "colab_type": "text"
      },
      "source": [
        "### Training Naive Bayes model"
      ]
    },
    {
      "cell_type": "code",
      "metadata": {
        "id": "29Jg4tnK7VUM",
        "colab_type": "code",
        "colab": {
          "base_uri": "https://localhost:8080/",
          "height": 323
        },
        "outputId": "b26d3fad-03e0-4db4-dd69-9d7fa4485d5e"
      },
      "source": [
        "grid_search_nb = GridSearchCV(clf_nb, parameters_nb, n_jobs=-1, verbose=2,cv=5)\n",
        "\n",
        "print(\"Performing grid search with Naive Bayes algorithm...\")\n",
        "print(\"pipeline:\", [name for name, _ in clf_nb.steps])\n",
        "print(\"parameters:\")\n",
        "print(parameters_nb)\n",
        "\n",
        "grid_search_nb.fit(X_train, y_train)\n",
        "print()\n",
        "\n",
        "print(\"Best score: %0.3f\" % grid_search_nb.best_score_)\n",
        "print(\"Best parameters set:\")\n",
        "best_parameters_nb = grid_search_nb.best_estimator_.get_params()\n",
        "for param_name in sorted(parameters_nb.keys()):\n",
        "    print(\"\\t%s: %r\" % (param_name, best_parameters_nb[param_name]))"
      ],
      "execution_count": 29,
      "outputs": [
        {
          "output_type": "stream",
          "text": [
            "Performing grid search with Naive Bayes algorithm...\n",
            "pipeline: ['vect', 'tfidf', 'clfnb']\n",
            "parameters:\n",
            "{'vect__ngram_range': ((1, 1), (1, 2)), 'tfidf__use_idf': (True, False), 'tfidf__norm': ('l1', 'l2'), 'clfnb__alpha': (0.0, 0.25, 0.5, 0.75, 1.0)}\n",
            "Fitting 5 folds for each of 40 candidates, totalling 200 fits\n"
          ],
          "name": "stdout"
        },
        {
          "output_type": "stream",
          "text": [
            "[Parallel(n_jobs=-1)]: Using backend LokyBackend with 2 concurrent workers.\n",
            "[Parallel(n_jobs=-1)]: Done  37 tasks      | elapsed:    7.0s\n",
            "[Parallel(n_jobs=-1)]: Done 158 tasks      | elapsed:   30.9s\n",
            "[Parallel(n_jobs=-1)]: Done 200 out of 200 | elapsed:   39.8s finished\n"
          ],
          "name": "stderr"
        },
        {
          "output_type": "stream",
          "text": [
            "\n",
            "Best score: 0.606\n",
            "Best parameters set:\n",
            "\tclfnb__alpha: 0.0\n",
            "\ttfidf__norm: 'l2'\n",
            "\ttfidf__use_idf: False\n",
            "\tvect__ngram_range: (1, 2)\n"
          ],
          "name": "stdout"
        },
        {
          "output_type": "stream",
          "text": [
            "/usr/local/lib/python3.6/dist-packages/sklearn/naive_bayes.py:507: UserWarning: alpha too small will result in numeric errors, setting alpha = 1.0e-10\n",
            "  'setting alpha = %.1e' % _ALPHA_MIN)\n"
          ],
          "name": "stderr"
        }
      ]
    },
    {
      "cell_type": "markdown",
      "metadata": {
        "id": "S96fKdAmIXb-",
        "colab_type": "text"
      },
      "source": [
        "### Evaluation model"
      ]
    },
    {
      "cell_type": "code",
      "metadata": {
        "id": "OKGYXqOu7h36",
        "colab_type": "code",
        "colab": {
          "base_uri": "https://localhost:8080/",
          "height": 357
        },
        "outputId": "48ba3a7e-5844-4249-9a3d-848886c7a8cc"
      },
      "source": [
        "y_pred_nb = grid_search_nb.predict(X_test)\n",
        "    \n",
        "print('Naive Bayes Evaluation:\\n-------------------------\\n')\n",
        "print('Confusion matrix:\\n',confusion_matrix(y_test,y_pred_nb))\n",
        "print('\\nClassification Report:\\n',classification_report(y_test,y_pred_nb))\n",
        "print('Accuracy: ',accuracy_score(y_test, y_pred_nb))"
      ],
      "execution_count": 30,
      "outputs": [
        {
          "output_type": "stream",
          "text": [
            "Naive Bayes Evaluation:\n",
            "-------------------------\n",
            "\n",
            "Confusion matrix:\n",
            " [[504  36  10]\n",
            " [181  99  12]\n",
            " [159   3  29]]\n",
            "\n",
            "Classification Report:\n",
            "                        precision    recall  f1-score   support\n",
            "\n",
            "Moderate Side Effects       0.60      0.92      0.72       550\n",
            "      No Side Effects       0.72      0.34      0.46       292\n",
            "  Severe Side Effects       0.57      0.15      0.24       191\n",
            "\n",
            "             accuracy                           0.61      1033\n",
            "            macro avg       0.63      0.47      0.47      1033\n",
            "         weighted avg       0.63      0.61      0.56      1033\n",
            "\n",
            "Accuracy:  0.611810261374637\n"
          ],
          "name": "stdout"
        }
      ]
    },
    {
      "cell_type": "markdown",
      "metadata": {
        "id": "Cr0dAAi5tRsM",
        "colab_type": "text"
      },
      "source": [
        "# Neural Network"
      ]
    },
    {
      "cell_type": "code",
      "metadata": {
        "id": "TtkKBAxotVCN",
        "colab_type": "code",
        "colab": {}
      },
      "source": [
        "import tensorflow as tf\n",
        "from tensorflow.keras.preprocessing.text import Tokenizer\n",
        "from tensorflow.keras.preprocessing.sequence import pad_sequences"
      ],
      "execution_count": 31,
      "outputs": []
    },
    {
      "cell_type": "code",
      "metadata": {
        "id": "Qg1vOgk8tq4w",
        "colab_type": "code",
        "colab": {}
      },
      "source": [
        "vocab_size = 8000\n",
        "embedding_dim = 64\n",
        "max_length = 200\n",
        "trunc_type='post'\n",
        "padding_type='post'\n",
        "oov_tok = \"<OOV>\"\n",
        "validating_size = 0.2"
      ],
      "execution_count": 32,
      "outputs": []
    },
    {
      "cell_type": "code",
      "metadata": {
        "id": "Yv8d8Uxz3v0c",
        "colab_type": "code",
        "colab": {}
      },
      "source": [
        "training_sentences = X_train[0:int(1-validating_size*len(X_train))]\n",
        "training_labels = y_train[0:int(1-validating_size*len(y_train))]\n",
        "\n",
        "validating_sentences = X_train[int(1-validating_size*len(X_train)):]\n",
        "validating_labels = y_train[int(1-validating_size*len(y_train)):]"
      ],
      "execution_count": 33,
      "outputs": []
    },
    {
      "cell_type": "code",
      "metadata": {
        "id": "MTp8fYXcxo2U",
        "colab_type": "code",
        "colab": {}
      },
      "source": [
        "training_labels = pd.get_dummies(training_labels).values\n",
        "validating_labels = pd.get_dummies(validating_labels).values\n",
        "testing_labels = pd.get_dummies(y_test).values"
      ],
      "execution_count": 34,
      "outputs": []
    },
    {
      "cell_type": "code",
      "metadata": {
        "id": "gYZgBEIZtyxO",
        "colab_type": "code",
        "colab": {}
      },
      "source": [
        "tokenizer = Tokenizer(num_words=vocab_size, oov_token=oov_tok)\n",
        "tokenizer.fit_on_texts(training_sentences)\n",
        "\n",
        "word_index = tokenizer.word_index\n",
        "\n",
        "training_sequences = tokenizer.texts_to_sequences(training_sentences)\n",
        "training_padded = pad_sequences(training_sequences, maxlen=max_length, padding=padding_type, truncating=trunc_type)\n",
        "\n",
        "validating_sequences = tokenizer.texts_to_sequences(validating_sentences)\n",
        "validating_padded = pad_sequences(validating_sequences, maxlen=max_length, padding=padding_type, truncating=trunc_type)\n",
        "\n",
        "testing_sequences = tokenizer.texts_to_sequences(X_test)\n",
        "testing_padded = pad_sequences(testing_sequences, maxlen=max_length, padding=padding_type, truncating=trunc_type)"
      ],
      "execution_count": 35,
      "outputs": []
    },
    {
      "cell_type": "code",
      "metadata": {
        "id": "z8gF4sSruCgi",
        "colab_type": "code",
        "colab": {}
      },
      "source": [
        "import numpy as np\n",
        "training_padded = np.array(training_padded)\n",
        "training_labels = np.array(training_labels)\n",
        "validating_padded = np.array(validating_padded)\n",
        "validating_labels = np.array(validating_labels)\n",
        "testing_padded = np.array(testing_padded)\n",
        "testing_labels = np.array(testing_labels)"
      ],
      "execution_count": 36,
      "outputs": []
    },
    {
      "cell_type": "code",
      "metadata": {
        "id": "oGqAXdM-ucsK",
        "colab_type": "code",
        "colab": {
          "base_uri": "https://localhost:8080/",
          "height": 119
        },
        "outputId": "f65d56fa-f6ec-427f-ecc8-6248b1f0ebf9"
      },
      "source": [
        "print(len(training_padded))\n",
        "print(len(training_labels))\n",
        "print(len(validating_padded))\n",
        "print(len(validating_labels))\n",
        "print(len(testing_padded))\n",
        "print(len(testing_labels))"
      ],
      "execution_count": 37,
      "outputs": [
        {
          "output_type": "stream",
          "text": [
            "2481\n",
            "2481\n",
            "618\n",
            "618\n",
            "1033\n",
            "1033\n"
          ],
          "name": "stdout"
        }
      ]
    },
    {
      "cell_type": "code",
      "metadata": {
        "id": "EgWE3ORZuKsA",
        "colab_type": "code",
        "colab": {
          "base_uri": "https://localhost:8080/",
          "height": 323
        },
        "outputId": "29ded7d7-bc1f-449d-f5e7-1527c69a4d93"
      },
      "source": [
        "model = tf.keras.Sequential([\n",
        "    tf.keras.layers.Embedding(vocab_size, embedding_dim, input_length=max_length,),\n",
        "    tf.keras.layers.GlobalAveragePooling1D(),\n",
        "    # tf.keras.layers.Bidirectional(tf.keras.layers.LSTM(32)),\n",
        "    tf.keras.layers.Dropout(0.2),\n",
        "    tf.keras.layers.Dense(32, activation='relu'),\n",
        "    tf.keras.layers.Dense(3, activation='sigmoid')\n",
        "])\n",
        "\n",
        "model.compile(loss='categorical_crossentropy',optimizer= tf.keras.optimizers.Adam(learning_rate=3e-4),metrics=['accuracy'])\n",
        "model.summary()"
      ],
      "execution_count": 38,
      "outputs": [
        {
          "output_type": "stream",
          "text": [
            "Model: \"sequential\"\n",
            "_________________________________________________________________\n",
            "Layer (type)                 Output Shape              Param #   \n",
            "=================================================================\n",
            "embedding (Embedding)        (None, 200, 64)           512000    \n",
            "_________________________________________________________________\n",
            "global_average_pooling1d (Gl (None, 64)                0         \n",
            "_________________________________________________________________\n",
            "dropout (Dropout)            (None, 64)                0         \n",
            "_________________________________________________________________\n",
            "dense (Dense)                (None, 32)                2080      \n",
            "_________________________________________________________________\n",
            "dense_1 (Dense)              (None, 3)                 99        \n",
            "=================================================================\n",
            "Total params: 514,179\n",
            "Trainable params: 514,179\n",
            "Non-trainable params: 0\n",
            "_________________________________________________________________\n"
          ],
          "name": "stdout"
        }
      ]
    },
    {
      "cell_type": "code",
      "metadata": {
        "id": "qF7KVWofutPW",
        "colab_type": "code",
        "colab": {
          "base_uri": "https://localhost:8080/",
          "height": 1000
        },
        "outputId": "f076beb4-5ce1-49d3-b5b9-f466c86ff031"
      },
      "source": [
        "num_epochs = 60\n",
        "history = model.fit(training_padded, training_labels, epochs=num_epochs, validation_data=(validating_padded, validating_labels), verbose=2)"
      ],
      "execution_count": 39,
      "outputs": [
        {
          "output_type": "stream",
          "text": [
            "Epoch 1/60\n",
            "78/78 - 1s - loss: 1.0908 - accuracy: 0.4849 - val_loss: 1.0772 - val_accuracy: 0.5307\n",
            "Epoch 2/60\n",
            "78/78 - 1s - loss: 1.0608 - accuracy: 0.5308 - val_loss: 1.0409 - val_accuracy: 0.5307\n",
            "Epoch 3/60\n",
            "78/78 - 1s - loss: 1.0232 - accuracy: 0.5308 - val_loss: 1.0088 - val_accuracy: 0.5307\n",
            "Epoch 4/60\n",
            "78/78 - 1s - loss: 1.0022 - accuracy: 0.5308 - val_loss: 0.9991 - val_accuracy: 0.5307\n",
            "Epoch 5/60\n",
            "78/78 - 1s - loss: 0.9974 - accuracy: 0.5308 - val_loss: 0.9973 - val_accuracy: 0.5307\n",
            "Epoch 6/60\n",
            "78/78 - 1s - loss: 0.9950 - accuracy: 0.5308 - val_loss: 0.9963 - val_accuracy: 0.5307\n",
            "Epoch 7/60\n",
            "78/78 - 1s - loss: 0.9924 - accuracy: 0.5308 - val_loss: 0.9950 - val_accuracy: 0.5307\n",
            "Epoch 8/60\n",
            "78/78 - 1s - loss: 0.9921 - accuracy: 0.5308 - val_loss: 0.9937 - val_accuracy: 0.5307\n",
            "Epoch 9/60\n",
            "78/78 - 1s - loss: 0.9896 - accuracy: 0.5308 - val_loss: 0.9921 - val_accuracy: 0.5307\n",
            "Epoch 10/60\n",
            "78/78 - 1s - loss: 0.9859 - accuracy: 0.5308 - val_loss: 0.9903 - val_accuracy: 0.5307\n",
            "Epoch 11/60\n",
            "78/78 - 1s - loss: 0.9827 - accuracy: 0.5308 - val_loss: 0.9877 - val_accuracy: 0.5307\n",
            "Epoch 12/60\n",
            "78/78 - 1s - loss: 0.9780 - accuracy: 0.5308 - val_loss: 0.9842 - val_accuracy: 0.5307\n",
            "Epoch 13/60\n",
            "78/78 - 1s - loss: 0.9733 - accuracy: 0.5308 - val_loss: 0.9799 - val_accuracy: 0.5307\n",
            "Epoch 14/60\n",
            "78/78 - 1s - loss: 0.9657 - accuracy: 0.5308 - val_loss: 0.9744 - val_accuracy: 0.5307\n",
            "Epoch 15/60\n",
            "78/78 - 1s - loss: 0.9572 - accuracy: 0.5308 - val_loss: 0.9681 - val_accuracy: 0.5307\n",
            "Epoch 16/60\n",
            "78/78 - 1s - loss: 0.9483 - accuracy: 0.5308 - val_loss: 0.9604 - val_accuracy: 0.5307\n",
            "Epoch 17/60\n",
            "78/78 - 1s - loss: 0.9352 - accuracy: 0.5308 - val_loss: 0.9518 - val_accuracy: 0.5307\n",
            "Epoch 18/60\n",
            "78/78 - 1s - loss: 0.9225 - accuracy: 0.5308 - val_loss: 0.9426 - val_accuracy: 0.5307\n",
            "Epoch 19/60\n",
            "78/78 - 1s - loss: 0.9083 - accuracy: 0.5324 - val_loss: 0.9312 - val_accuracy: 0.5340\n",
            "Epoch 20/60\n",
            "78/78 - 1s - loss: 0.8884 - accuracy: 0.5401 - val_loss: 0.9203 - val_accuracy: 0.5340\n",
            "Epoch 21/60\n",
            "78/78 - 1s - loss: 0.8714 - accuracy: 0.5595 - val_loss: 0.9078 - val_accuracy: 0.5599\n",
            "Epoch 22/60\n",
            "78/78 - 1s - loss: 0.8527 - accuracy: 0.5832 - val_loss: 0.8967 - val_accuracy: 0.5825\n",
            "Epoch 23/60\n",
            "78/78 - 1s - loss: 0.8322 - accuracy: 0.6207 - val_loss: 0.8867 - val_accuracy: 0.5809\n",
            "Epoch 24/60\n",
            "78/78 - 1s - loss: 0.8097 - accuracy: 0.6344 - val_loss: 0.8726 - val_accuracy: 0.6181\n",
            "Epoch 25/60\n",
            "78/78 - 1s - loss: 0.7840 - accuracy: 0.6518 - val_loss: 0.8558 - val_accuracy: 0.6359\n",
            "Epoch 26/60\n",
            "78/78 - 1s - loss: 0.7530 - accuracy: 0.6771 - val_loss: 0.8413 - val_accuracy: 0.6424\n",
            "Epoch 27/60\n",
            "78/78 - 1s - loss: 0.7272 - accuracy: 0.6892 - val_loss: 0.8279 - val_accuracy: 0.6424\n",
            "Epoch 28/60\n",
            "78/78 - 1s - loss: 0.6949 - accuracy: 0.7082 - val_loss: 0.8139 - val_accuracy: 0.6359\n",
            "Epoch 29/60\n",
            "78/78 - 1s - loss: 0.6687 - accuracy: 0.7134 - val_loss: 0.8025 - val_accuracy: 0.6392\n",
            "Epoch 30/60\n",
            "78/78 - 1s - loss: 0.6447 - accuracy: 0.7428 - val_loss: 0.7914 - val_accuracy: 0.6537\n",
            "Epoch 31/60\n",
            "78/78 - 1s - loss: 0.6209 - accuracy: 0.7549 - val_loss: 0.7833 - val_accuracy: 0.6489\n",
            "Epoch 32/60\n",
            "78/78 - 1s - loss: 0.5939 - accuracy: 0.7755 - val_loss: 0.7745 - val_accuracy: 0.6683\n",
            "Epoch 33/60\n",
            "78/78 - 1s - loss: 0.5700 - accuracy: 0.7904 - val_loss: 0.7680 - val_accuracy: 0.6683\n",
            "Epoch 34/60\n",
            "78/78 - 1s - loss: 0.5545 - accuracy: 0.7904 - val_loss: 0.7762 - val_accuracy: 0.6586\n",
            "Epoch 35/60\n",
            "78/78 - 1s - loss: 0.5262 - accuracy: 0.8142 - val_loss: 0.7602 - val_accuracy: 0.6634\n",
            "Epoch 36/60\n",
            "78/78 - 1s - loss: 0.5137 - accuracy: 0.8239 - val_loss: 0.7677 - val_accuracy: 0.6634\n",
            "Epoch 37/60\n",
            "78/78 - 1s - loss: 0.4912 - accuracy: 0.8279 - val_loss: 0.7513 - val_accuracy: 0.6780\n",
            "Epoch 38/60\n",
            "78/78 - 1s - loss: 0.4741 - accuracy: 0.8339 - val_loss: 0.7513 - val_accuracy: 0.6667\n",
            "Epoch 39/60\n",
            "78/78 - 1s - loss: 0.4633 - accuracy: 0.8331 - val_loss: 0.7519 - val_accuracy: 0.6764\n",
            "Epoch 40/60\n",
            "78/78 - 1s - loss: 0.4485 - accuracy: 0.8480 - val_loss: 0.7499 - val_accuracy: 0.6748\n",
            "Epoch 41/60\n",
            "78/78 - 1s - loss: 0.4361 - accuracy: 0.8553 - val_loss: 0.7670 - val_accuracy: 0.6634\n",
            "Epoch 42/60\n",
            "78/78 - 1s - loss: 0.4194 - accuracy: 0.8521 - val_loss: 0.7491 - val_accuracy: 0.6796\n",
            "Epoch 43/60\n",
            "78/78 - 1s - loss: 0.4084 - accuracy: 0.8630 - val_loss: 0.7509 - val_accuracy: 0.6780\n",
            "Epoch 44/60\n",
            "78/78 - 1s - loss: 0.3943 - accuracy: 0.8646 - val_loss: 0.7523 - val_accuracy: 0.6780\n",
            "Epoch 45/60\n",
            "78/78 - 1s - loss: 0.3824 - accuracy: 0.8690 - val_loss: 0.7524 - val_accuracy: 0.6683\n",
            "Epoch 46/60\n",
            "78/78 - 1s - loss: 0.3654 - accuracy: 0.8827 - val_loss: 0.7465 - val_accuracy: 0.6861\n",
            "Epoch 47/60\n",
            "78/78 - 1s - loss: 0.3611 - accuracy: 0.8831 - val_loss: 0.7460 - val_accuracy: 0.6942\n",
            "Epoch 48/60\n",
            "78/78 - 1s - loss: 0.3475 - accuracy: 0.8892 - val_loss: 0.7512 - val_accuracy: 0.6828\n",
            "Epoch 49/60\n",
            "78/78 - 1s - loss: 0.3416 - accuracy: 0.8879 - val_loss: 0.7559 - val_accuracy: 0.6812\n",
            "Epoch 50/60\n",
            "78/78 - 1s - loss: 0.3273 - accuracy: 0.8928 - val_loss: 0.7591 - val_accuracy: 0.6828\n",
            "Epoch 51/60\n",
            "78/78 - 1s - loss: 0.3192 - accuracy: 0.8960 - val_loss: 0.7668 - val_accuracy: 0.6764\n",
            "Epoch 52/60\n",
            "78/78 - 1s - loss: 0.3116 - accuracy: 0.9017 - val_loss: 0.7617 - val_accuracy: 0.6861\n",
            "Epoch 53/60\n",
            "78/78 - 1s - loss: 0.3030 - accuracy: 0.9008 - val_loss: 0.7618 - val_accuracy: 0.6877\n",
            "Epoch 54/60\n",
            "78/78 - 1s - loss: 0.2927 - accuracy: 0.9093 - val_loss: 0.7617 - val_accuracy: 0.6877\n",
            "Epoch 55/60\n",
            "78/78 - 1s - loss: 0.2862 - accuracy: 0.9121 - val_loss: 0.7750 - val_accuracy: 0.6812\n",
            "Epoch 56/60\n",
            "78/78 - 1s - loss: 0.2721 - accuracy: 0.9178 - val_loss: 0.7729 - val_accuracy: 0.6861\n",
            "Epoch 57/60\n",
            "78/78 - 1s - loss: 0.2707 - accuracy: 0.9174 - val_loss: 0.7830 - val_accuracy: 0.6828\n",
            "Epoch 58/60\n",
            "78/78 - 1s - loss: 0.2621 - accuracy: 0.9166 - val_loss: 0.7787 - val_accuracy: 0.6893\n",
            "Epoch 59/60\n",
            "78/78 - 1s - loss: 0.2570 - accuracy: 0.9222 - val_loss: 0.7877 - val_accuracy: 0.6828\n",
            "Epoch 60/60\n",
            "78/78 - 1s - loss: 0.2492 - accuracy: 0.9291 - val_loss: 0.7966 - val_accuracy: 0.6812\n"
          ],
          "name": "stdout"
        }
      ]
    },
    {
      "cell_type": "code",
      "metadata": {
        "id": "-U2MmydduwiW",
        "colab_type": "code",
        "colab": {
          "base_uri": "https://localhost:8080/",
          "height": 541
        },
        "outputId": "596b0bd8-c352-4f72-bc8a-5405e0068171"
      },
      "source": [
        "import matplotlib.pyplot as plt\n",
        "\n",
        "\n",
        "def plot_graphs(history, string):\n",
        "  plt.plot(history.history[string])\n",
        "  plt.plot(history.history['val_'+string])\n",
        "  plt.xlabel(\"Epochs\")\n",
        "  plt.ylabel(string)\n",
        "  plt.legend([string, 'val_'+string])\n",
        "  plt.show()\n",
        "  \n",
        "plot_graphs(history, \"accuracy\")\n",
        "plot_graphs(history, \"loss\")"
      ],
      "execution_count": 40,
      "outputs": [
        {
          "output_type": "display_data",
          "data": {
            "image/png": "[encoded data removed]",
            "text/plain": [
              "<Figure size 432x288 with 1 Axes>"
            ]
          },
          "metadata": {
            "tags": [],
            "needs_background": "light"
          }
        },
        {
          "output_type": "display_data",
          "data": {
            "image/png": "[encoded data removed]",
            "text/plain": [
              "<Figure size 432x288 with 1 Axes>"
            ]
          },
          "metadata": {
            "tags": [],
            "needs_background": "light"
          }
        }
      ]
    },
    {
      "cell_type": "code",
      "metadata": {
        "id": "iHEBQibr2zEE",
        "colab_type": "code",
        "colab": {
          "base_uri": "https://localhost:8080/",
          "height": 54
        },
        "outputId": "c2188515-367a-4f4d-e6c9-c1d46a1c36b4"
      },
      "source": [
        "reverse_word_index = dict([(value, key) for (key, value) in word_index.items()])\n",
        "\n",
        "def decode_sentence(text):\n",
        "    return ' '.join([reverse_word_index.get(i, '?') for i in text])\n",
        "\n",
        "print(decode_sentence(training_padded[2]))"
      ],
      "execution_count": 41,
      "outputs": [
        {
          "output_type": "stream",
          "text": [
            "hair loss side effect take finasteride 2 5 mg day six month period feel dehydrate have dry mouth morning experience low libido normal experience low level energy day side effect extreme go discontinue treatment treatment detail oral intake finasteride obtain 5 mg form know would cut tablet half 2 5 mg dosage take 2 5 mg finasteride day night go sleep miss dosage wait next day take next dosage take whole 5 mg dosage day opinion would high dosage side effect would increase ? ? ? ? ? ? ? ? ? ? ? ? ? ? ? ? ? ? ? ? ? ? ? ? ? ? ? ? ? ? ? ? ? ? ? ? ? ? ? ? ? ? ? ? ? ? ? ? ? ? ? ? ? ? ? ? ? ? ? ? ? ? ? ? ? ? ? ? ? ? ? ? ? ? ? ? ? ? ? ? ? ? ? ? ? ? ? ? ? ? ? ? ? ? ? ? ? ? ? ? ? ? ? ? ? ? ? ? ? ? ? ? ? ? ? ? ?\n"
          ],
          "name": "stdout"
        }
      ]
    },
    {
      "cell_type": "markdown",
      "metadata": {
        "id": "K8etAWmH8yrS",
        "colab_type": "text"
      },
      "source": [
        "## Evaluation"
      ]
    },
    {
      "cell_type": "code",
      "metadata": {
        "id": "lcM1Wlxz80X9",
        "colab_type": "code",
        "colab": {
          "base_uri": "https://localhost:8080/",
          "height": 68
        },
        "outputId": "4d1723de-fab5-4b26-b412-7249e51170e2"
      },
      "source": [
        "loss, acc = model.evaluate(testing_padded, testing_labels)\n",
        "print(f'Loss: {loss}')\n",
        "print(f'Accuracy: {acc}')"
      ],
      "execution_count": 42,
      "outputs": [
        {
          "output_type": "stream",
          "text": [
            "33/33 [==============================] - 0s 2ms/step - loss: 0.7364 - accuracy: 0.7144\n",
            "Loss: 0.7364435791969299\n",
            "Accuracy: 0.7144240140914917\n"
          ],
          "name": "stdout"
        }
      ]
    },
    {
      "cell_type": "code",
      "metadata": {
        "id": "ny0y2nki-bML",
        "colab_type": "code",
        "colab": {}
      },
      "source": [
        ""
      ],
      "execution_count": 42,
      "outputs": []
    }
  ]
}